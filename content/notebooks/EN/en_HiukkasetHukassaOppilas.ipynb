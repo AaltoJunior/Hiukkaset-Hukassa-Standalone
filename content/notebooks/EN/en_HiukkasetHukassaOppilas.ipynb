{
 "cells": [
  {
   "cell_type": "markdown",
   "metadata": {
    "slideshow": {
     "slide_type": "-"
    }
   },
   "source": [
    "<br>\n",
    " <img src=\"https://github.com/cms-opendata-education/cms-jupyter-materials-finnish/blob/master/Kuvat/CMSlogo_color_label_1024_May2014.png?raw=true\"  align=\"right\" width=\"100px\" title=\"CMS projektin oma logo\">                   \n",
    " <img src=\"https://github.com/cms-opendata-education/cms-jupyter-materials-finnish/blob/master/Kuvat/aaltojunior_logo.PNG?raw=true\"  align=\"right\" width=\"150px\" title=\"CMS projektin oma logo\">\n",
    " <br>\n",
    " \n",
    "\n",
    "# Lost particles\n",
    "     Aalto University Junior x CMS open data\n",
    "Welcome to the fascinating and strange world of particle physics.\n",
    "\n",
    "Table of contetents:\n",
    "\n",
    "1. [Initialisation of the code](#alustus)\n",
    "2. [Tutorial to Pandas DataFrames](#tut)\n",
    "3. [Initialisatoin of the exercises](#teht)\n",
    "    - [Invariant mass](#inv)\n",
    "    - [Histograms](#demo1)\n",
    "4. [Data analysing](#handson)\n",
    "5. [Comparison of the results](#wrapup)\n",
    "6. [Sources](#sources)\n",
    "\n",
    "\n",
    "****\n",
    "\n",
    "# Firstly...\n",
    "\n",
    "This file is a student version containing exercises and demos on the CMS open data. Answer all $\\color{blue}{\\text{questions}}$ and have fun with the data!\n",
    "\n",
    "The file format is **Jupyter notebook**, which combines text and code written in **Python** programming language. Python is characterised by the use of many pre-written **library packages**, so that the user does not have to figure out how to perform a mathematical operation or how to process a particular type of data.\n",
    "\n",
    "In Jupyter notebooks, the code and text content is divided into blocks. It is possible to run the blocks in step-by-step order by pressing $\\color{red}{\\text{ [shift] + [enter]}}$\n",
    "\n",
    "Remember to proceed in order, because some code may depend on code written in a previous block!\n",
    "\n"
   ]
  },
  {
   "cell_type": "markdown",
   "metadata": {},
   "source": [
    "<a id=\"alustus\"></a>\n",
    "### Initialization of the code\n",
    "Below is a code cell that, when run, fetches the necessary Python packages. (Behind the links is more information/documentation about those libraries that is not mandatory.)\n",
    "\n",
    "- [Pandas](https://pandas.pydata.org/docs/user_guide/10min.html) is for data analysis\n",
    "- [numpy](https://numpy.org/learn/) is useful for scientific computing\n",
    "- [matplotlib.pyplot](https://matplotlib.org/stable/tutorials/index) allows you to plot graphs\n",
    "\n",
    "We define a shorter names for them (pd, np and plt) so that you don't have to type the full package name when you use them later.\n"
   ]
  },
  {
   "cell_type": "code",
   "execution_count": null,
   "metadata": {
    "slideshow": {
     "slide_type": "-"
    }
   },
   "outputs": [],
   "source": [
    "import pandas as pd\n",
    "import numpy as np\n",
    "import matplotlib.pyplot as plt\n",
    "import requests\n",
    "from en_apufunktiot import *"
   ]
  },
  {
   "cell_type": "code",
   "execution_count": 3,
   "metadata": {
    "slideshow": {
     "slide_type": "skip"
    },
    "tags": []
   },
   "outputs": [],
   "source": [
    "# Define the table to be studied and title the rows and columns\n",
    "LHC_test_sites = pd.DataFrame({'Name':['CMS', 'ATLAS', 'ALICE', 'LHCb'],\n",
    "        'Weight':[14000, 7000, 10000, 5600], # Tons\n",
    "        'Length':[21, 46, 26, 21], # Meters\n",
    "        'Width':[15, 25, 16, 13], # Meters\n",
    "        'Height':[15, 25, 16, 10]})  # Meters\n",
    "# create a table and save it to the \"LHC_test_sites\" handle.\n",
    "# The table contains information on test sites in the LHC collider [source]."
   ]
  },
  {
   "cell_type": "code",
   "execution_count": null,
   "metadata": {
    "slideshow": {
     "slide_type": "skip"
    },
    "tags": []
   },
   "outputs": [],
   "source": [
    "# Using the .head() function\n",
    "LHC_test_sites.head() # It returns 5 first rows of our data."
   ]
  },
  {
   "cell_type": "code",
   "execution_count": null,
   "metadata": {
    "slideshow": {
     "slide_type": "skip"
    },
    "tags": []
   },
   "outputs": [],
   "source": [
    "# Select the column \"Name\" and print it\n",
    "print(LHC_test_sites.Name)"
   ]
  },
  {
   "cell_type": "code",
   "execution_count": null,
   "metadata": {
    "slideshow": {
     "slide_type": "skip"
    },
    "tags": []
   },
   "outputs": [],
   "source": [
    "# Calculation of how many rows there are in the table and print the answer\n",
    "length = len(LHC_test_sites)\n",
    "print(length)"
   ]
  },
  {
   "cell_type": "code",
   "execution_count": null,
   "metadata": {
    "slideshow": {
     "slide_type": "skip"
    },
    "tags": []
   },
   "outputs": [],
   "source": [
    "# LHC_test_sites.Weight      chooses the column named 'Weight' in the 'LHC test sites' table\n",
    "# max(LHC_test_sites.Weight )    finds the maximum weight from the data\n",
    "# print(max(LHC_test_sites.Weight))  prints the result of max() function.\n",
    "\n",
    "maximum_weight = max(LHC_test_sites.Weight)\n",
    "print(maximum_weight)\n",
    "\n",
    "#we get the minimum values the same way:\n",
    "minimum_height = min(LHC_test_sites.Height)\n",
    "print(minimum_height)"
   ]
  },
  {
   "cell_type": "markdown",
   "metadata": {
    "slideshow": {
     "slide_type": "skip"
    }
   },
   "source": [
    "<br>\n",
    "<br>\n",
    "\n",
    "\n",
    "#### Calculating with python\n",
    "Python is a versatile programming language that can handle large amounts of data and perform elaborate calculations. Let's start the exercise with basic calculations, using the above example of expressions used in particle physics. Use the data in the table to calculate some spatial dimensions using familiar formulas. The example table is already stored in the computer memory.\n",
    "\n",
    "In the beginning we downloaded the _numpy_ library and saved it as _np_. The library contains predefined functions that make it easy to perform calculations. For example, `np.sqrt(x)` is equivalent to $\\sqrt x$. In addition, `(x)**2` and `np.square(x)` both correspond to $x^2$.\n",
    "\n",
    "For simplicity, assume that all particle detectors in the list would be cylinders. However, this is not the case in reality."
   ]
  },
  {
   "cell_type": "code",
   "execution_count": null,
   "metadata": {
    "slideshow": {
     "slide_type": "skip"
    },
    "tags": []
   },
   "outputs": [],
   "source": [
    "# let's remember what the table looks like\n",
    "LHC_test_sites.head()"
   ]
  },
  {
   "cell_type": "markdown",
   "metadata": {
    "slideshow": {
     "slide_type": "skip"
    }
   },
   "source": [
    " <img src=\"../../img/laskuharjoitus_lavistaja.png\"  align=\"right\" width=\"400px\" title=\"[Kuva 1]  Törmäyksestä syntyneiden kahden myonin invariantin massan jakauma vuosilta 2017 ja 2018. Jakaumasta erottaa selvästi niiden hiukkasten piikit jotka voivat hajota kahdeksi myoniksi.\">\n",
    "\n",
    " \n",
    "Since we made the assumption that each detector is a cylinder, we can easily calculate \n",
    "- **volumes V :** $\\pi (\\frac{d}{2})^2 \\cdot l$  \n",
    "- **densities :** $\\frac{m}{V}$.\n",
    "- **diagonals x :** by Pythagorean theorem, $\\sqrt{(d)^2+l^2}$\n",
    "\n",
    "where **$r$** is the diagonal of the bottom of the cylinder, i.e. the height of the detector, **$l$** is the height of the cylinder, i.e. the length of the detector, and **$m$** is the mass of the detector."
   ]
  },
  {
   "cell_type": "code",
   "execution_count": null,
   "metadata": {
    "slideshow": {
     "slide_type": "skip"
    },
    "tags": []
   },
   "outputs": [],
   "source": [
    "# Calculating the volume\n",
    "##  np.pi is an approximation of pi\n",
    "##  two asterisks denote a power\n",
    "\n",
    "volume = np.pi * (LHC_test_sites.Height /2 )**2 * LHC_test_sites.Length\n",
    "print(volume)"
   ]
  },
  {
   "cell_type": "code",
   "execution_count": null,
   "metadata": {
    "slideshow": {
     "slide_type": "skip"
    },
    "tags": []
   },
   "outputs": [],
   "source": [
    "# Calculatinag the density\n",
    "\n",
    "density = LHC_test_sites.Weight / volume\n",
    "print(density)"
   ]
  },
  {
   "cell_type": "code",
   "execution_count": null,
   "metadata": {
    "slideshow": {
     "slide_type": "skip"
    },
    "tags": []
   },
   "outputs": [],
   "source": [
    "# Calculating the diagonal\n",
    "\n",
    "diagonal = np.sqrt((LHC_test_sites.Length)**2 + (LHC_test_sites.Height)**2)\n",
    "print(diagonal)"
   ]
  },
  {
   "cell_type": "markdown",
   "metadata": {
    "slideshow": {
     "slide_type": "skip"
    }
   },
   "source": [
    "<a id=\"hist_tut\"></a>\n",
    "#### Histogram using python\n",
    "\n",
    "\n",
    "To plot the histogram, we use the _matplotlib.pyplot_ package which we saved as _plt_ at the beginning. The package is used to draw the histogram easily using the function `plt.hist()`."
   ]
  },
  {
   "cell_type": "code",
   "execution_count": null,
   "metadata": {
    "slideshow": {
     "slide_type": "skip"
    },
    "tags": []
   },
   "outputs": [],
   "source": [
    "# Create a histogram\n",
    "# plt.hist() takes three values as arguments:\n",
    "### the name of the file from which the histogram is drawn\n",
    "### bins tells how many columns to divide the observations into\n",
    "### range specifies the range over which the histogram will be generated\n",
    "\n",
    "plt.hist(LHC_test_sites.Height, bins=4, range=(10,30))  \n",
    "\n",
    "# Name the axis\n",
    "plt.xlabel(\"Height (m)\")\n",
    "plt.ylabel(\"Number of observations\")\n",
    "\n",
    "# Name the graph\n",
    "plt.title(\"Histogram of the height of the detectors\")\n",
    "\n",
    "# Show the graph\n",
    "plt.show()"
   ]
  },
  {
   "cell_type": "markdown",
   "metadata": {},
   "source": [
    "With small amounts of data, a histogram adds no value to the analysis of the numbers and is not useful. However, it may be that with particle physics data sets, a histogram can provide clarity on, for example, _spike data_..."
   ]
  },
  {
   "cell_type": "markdown",
   "metadata": {
    "slideshow": {
     "slide_type": "slide"
    }
   },
   "source": [
    "****\n",
    "\n",
    "<a id=\"teht\"></a>\n",
    "# Task\n",
    "\n",
    "A CERN summer intern has been tasked with studying the research data measured by CMS in 2011. The data includes a selection of events where two muons were detected by a particle detector. Based on previous observations, it is known that many particles can decay into just two muons and can be identified by their invariant mass. A busy summer intern has forgotten to keep the important measurement data in order. Now he has six strangely named files of CMS measurement data. Each file contains the measured values of two muons, perhaps from the decay of a particle. A summer intern asks for your help in examining the contents of the files.\n",
    "\n",
    "\n",
    "$\\color{black}{\\text{Hypothesis: The masses of parent particles can be determined using invariant mass values to find particles that can decay into two muons.}}$"
   ]
  },
  {
   "cell_type": "markdown",
   "metadata": {},
   "source": [
    "****\n",
    "<a id=\"inv\"></a>\n",
    "## Invariant mass?\n",
    "\n",
    "In the world of particle physics, the formulas of ordinary mechanics may no longer apply when mass is converted into energy and vice versa. But conservation laws do exist! The energy and the amount of motion of particles can be used to form a quantity called **invariant mass**. It is a mathematical value describing the mass characteristic of a decayed parent particle and is \"invariant\" to the measurement environment, i.e. it can be calculated anywhere and for anything.\n",
    "\n",
    "This quantity is useful when dealing with particles that decay in less than a fraction of a second. For example, the Higgs particle has a lifetime expectation of $10^{-22}$ seconds [[6](#higs)], so it can be difficult to weigh even on an analysis scale. A device like the CMS measures the amount of motion and energy of the decaying particles, the daughter particles, and the _invariant mass_ can be calculated from them. The invariant mass of the daughter particles from a given decay is close to the mass of the parent particle. For unrelated particles, on the other hand, the invariant mass describes nothing, but is just background noise.\n",
    "\n",
    "**The invariant mass is thus conserved as the particle decays into new particles.** Particle detectors such as CMS mainly detect these daughter particles, which are more stable than the parent particles. Since there are huge number of decays in each collision, and calculating the invariant mass of unrelated particles gives nothing but noise, researchers have to look at large amounts of data. The **Histogram** is an excellent tool for examining data, as it makes it easy to separate noise from meaningful results. Spikes in the invariant mass histogram can indicate a particular energetic parent particle.\n",
    "[More information](https://profmattstrassler.com/articles-and-posts/particle-physics-basics/mass-energy-matter-etc/mass-and-energy/)\n",
    "\n",
    "<br>\n",
    " <img src=\"https://github.com/cms-opendata-education/cms-jupyter-materials-finnish/blob/master/Kuvat/inv_massa.PNG?raw=true\"  align=\"left\" width=\"600px\" title=\"[Kuva 8]  Törmäyksestä syntyneiden kahden myonin invariantin massan jakauma vuosilta 2017 ja 2018. Jakaumasta erottaa selvästi niiden hiukkasten piikit jotka voivat hajota kahdeksi myoniksi.\">\n",
    " <br>\n",
    " \n",
    "\n",
    "****"
   ]
  },
  {
   "cell_type": "markdown",
   "metadata": {},
   "source": [
    "<a id=\"demo1\"></a>\n",
    "**Histograms with different amounts of data**\n",
    "\n",
    "Let's try how the amount of data affects our results. The code underneath draws a histogram of the invariant mass of two high-energy muons from the given data (4 times). We begin with analyzing small numbers 0-20 and then increase the amount of data as we go, e.g. 5, 20, 300, 10000."
   ]
  },
  {
   "cell_type": "code",
   "execution_count": null,
   "metadata": {
    "tags": []
   },
   "outputs": [],
   "source": [
    "# Download the data file and save it to the 'data' handle.\n",
    "url = \"https://raw.githubusercontent.com/cms-opendata-education/cms-jupyter-materials-finnish/master/Data/Zmumu_Run2011A_massoilla.csv\"\n",
    "filename = \"Zmumu_Run2011A_massoilla.csv\"\n",
    "\n",
    "r = requests.get(url)\n",
    "r.raise_for_status()  # ensure we know if download fails\n",
    "\n",
    "with open(filename, \"wb\") as f:\n",
    "    f.write(r.content)\n",
    "\n",
    "print(\"File downloaded:\", filename)\n",
    "\n",
    "data = pd.read_csv('Zmumu_Run2011A_massoilla.csv')\n",
    "\n",
    "# Save the invariant masses in the data file under the 'invariant_mass' handle.\n",
    "invariantti_mass = data['M']\n"
   ]
  },
  {
   "cell_type": "markdown",
   "metadata": {
    "slideshow": {
     "slide_type": "skip"
    },
    "tags": []
   },
   "source": [
    "****\n",
    "<a id=\"handson\"></a>\n",
    "# Data analysing\n"
   ]
  },
  {
   "cell_type": "code",
   "execution_count": null,
   "metadata": {},
   "outputs": [],
   "source": [
    "# Download the data files.\n",
    "base_url = \"https://raw.githubusercontent.com/cms-opendata-education/cms-jupyter-materials-finnish/master/Data/\"\n",
    "filenames = [f\"piikkidata{i}.csv\" for i in range(1, 7)]\n",
    "\n",
    "for filename in filenames:\n",
    "    url = base_url + filename\n",
    "    response = requests.get(url, verify=False)  # verify=False vastaa --insecure optiota\n",
    "    \n",
    "    if response.status_code == 200:\n",
    "        with open(filename, 'w') as file:\n",
    "            file.write(response.text)\n",
    "        print(f\"Downloaded: {filename}\")\n",
    "    else:\n",
    "        print(f\"Error downloading {filename}: {response.status_code}\")"
   ]
  },
  {
   "cell_type": "markdown",
   "metadata": {},
   "source": [
    "\n",
    "\"**\\#**\" marks comment lines, that the computer won't process as code. Commenting the code helps understanding it.\n",
    "\n",
    "Delete the **\\#**-character from the line that your group will be analysing. Run the cell.\n",
    "\n",
    "The command `pd.read_csv()` reads the csv-file in the brackets and saves the data in a table variable. Name the variable as follows: _spikedata_ + _group nr_.\n",
    "\n"
   ]
  },
  {
   "cell_type": "code",
   "execution_count": 2,
   "metadata": {
    "slideshow": {
     "slide_type": "skip"
    }
   },
   "outputs": [],
   "source": [
    "spikedata1 = pd.read_csv('piikkidata1.csv')\n",
    "\n",
    "#spikedata2 = pd.read_csv('piikkidata2.csv')\n",
    "\n",
    "#spikedata3 = pd.read_csv('piikkidata3.csv')\n",
    "\n",
    "#spikedata4 = pd.read_csv('piikkidata4.csv')\n",
    "\n",
    "#spikedata5 = pd.read_csv('piikkidata5.csv')\n",
    "\n",
    "#pspikedata6 = pd.read_csv('piikkidata6.csv')"
   ]
  },
  {
   "cell_type": "markdown",
   "metadata": {
    "slideshow": {
     "slide_type": "skip"
    }
   },
   "source": [
    "In the previous code cell, the file was downloaded from the internet, read as a csv-file and saved as a variable. But how do we know what the downloaded data looks like? Study the group's spikedata and answer the questions.\n",
    "\n",
    "Hint: If you get stuck, check out the [previous](#alustus) code cells!"
   ]
  },
  {
   "cell_type": "markdown",
   "metadata": {
    "slideshow": {
     "slide_type": "skip"
    }
   },
   "source": [
    "\n",
    "## Study the downloaded file\n",
    "Next, you will be writing your own code.\n",
    "\n",
    "There are several collision events in the downloaded data and there are several values from each collision. Additionally, two muons were born in every event and therefore there are two values for each muon in the data. The values are numbered 1 or 2 to distinguish the muons.\n",
    "\n",
    "__For the exercises__ you need:\n",
    "   - __px__ : $p_x$ the muon's (1 or 2) momentum in the x direction (GeV).\n",
    "   - __py__ : $p_y$ the muon's (1 or 2) momentum in the y direction (GeV).\n",
    "   - __pz__ : $p_z$ the muon's (1 or 2) momentum in the z direction (GeV).\n",
    "   - __E1 ja E2__ : $E$ the muon's (1 or 2) energy (GeV).\n",
    "   \n",
    "\n",
    "<br>\n",
    "<details>\n",
    "    <summary>Other information in the table</summary>\n",
    "    \n",
    "   - __Run__ and __Event__ : tells us from which collision the row is from.\n",
    "   - __pt__ : $p_t$ (transverse momentum) the perpendicular (against the particle beam) component of the momentum of the muon (GeV).\n",
    "   - __eta__ : $\\eta$ is the pseudorapidity.\n",
    "   - __phi__ : $\\phi$ (Azimuth angle) the angle in which direction the particle is travelling seen from the particle beam point of view (rad).\n",
    "   - __Q__ : the charge of the muon. In each collision in the data, a muon and anti muon is born ($\\mu^+ , \\mu^-$) [1].\n",
    "   - __M__ : We will return to this later.\n",
    "   \n",
    "   </details>\n",
    "<br>\n",
    " \n",
    "Questions:\n",
    "- $\\color{blue}{\\text{How many measurements are there in the file?}}$\n",
    "- $\\color{blue}{\\text{What is the maximum energy, that has been detected for a muon?}}$\n",
    "- $\\color{blue}{\\text{What is the minimum energy, that has been detected for a muon?}}$\n",
    "\n",
    "Write your own code to answer the questions! "
   ]
  },
  {
   "cell_type": "code",
   "execution_count": 31,
   "metadata": {
    "tags": []
   },
   "outputs": [],
   "source": [
    "# Use head()-function for your spikedata (write in this code cell).\n"
   ]
  },
  {
   "cell_type": "code",
   "execution_count": null,
   "metadata": {
    "slideshow": {
     "slide_type": "skip"
    },
    "tags": []
   },
   "outputs": [],
   "source": [
    "# Write the rest of your code in this cell!\n"
   ]
  },
  {
   "cell_type": "markdown",
   "metadata": {
    "slideshow": {
     "slide_type": "skip"
    }
   },
   "source": [
    "$\\color{purple}{\\text{Check}}$ your results by running the next code cells and following the instructions given by the prompt."
   ]
  },
  {
   "cell_type": "code",
   "execution_count": null,
   "metadata": {
    "slideshow": {
     "slide_type": "skip"
    },
    "tags": []
   },
   "outputs": [],
   "source": [
    "#How many measurements are there in the table?\n",
    "tarkista_eventit(globals())"
   ]
  },
  {
   "cell_type": "code",
   "execution_count": null,
   "metadata": {},
   "outputs": [],
   "source": [
    "#What is the maximum energy, that has been detected for a muon?\n",
    "tarkista_maksimiE(globals())"
   ]
  },
  {
   "cell_type": "code",
   "execution_count": null,
   "metadata": {},
   "outputs": [],
   "source": [
    "#What is the maximum energy, that has been detected for a muon?\n",
    "tarkista_minimiE(globals())"
   ]
  },
  {
   "cell_type": "markdown",
   "metadata": {
    "slideshow": {
     "slide_type": "skip"
    }
   },
   "source": [
    "\n",
    "## Calculating the invariant mass\n",
    "\n",
    "The data contains observations of two muons created in a collision. In order for us to understand what happened in the collision, we have to collect a lot of data which we can use to determine what happened outside the range of the particle detector. With the help of the energy of stable particles scattered from the collision and the invariant mass, we can determine where they might come from.\n",
    "\n",
    "$\\color{blue}{\\text{Calculate the invariant mass from your group's data}}$, maybe you can find something interesting?"
   ]
  },
  {
   "cell_type": "markdown",
   "metadata": {
    "slideshow": {
     "slide_type": "skip"
    }
   },
   "source": [
    "Use the following equation to calculate the invariant mass\n",
    "\n",
    "Käytetään laskussa seuraavaa lauseketta invariantille massalle \n",
    "\n",
    "$M = \\sqrt{(E_1 + E_2)^2 - \\|\\textbf{p}_1 + \\textbf{p}_2 \\| ^2}$\n",
    "\n",
    "where $\\|\\textbf{p}_1 + \\textbf{p}_2 \\|^2$ is the square of the vector norm and can be calculated with the following equation, \n",
    "\n",
    " $\\|\\textbf{p}_1 + \\textbf{p}_2 \\|^2=(p_{x1}+p_{x2})^2+(p_{y1}+p_{y2})^2+(p_{z1}+p_{z2})^2$\n",
    "\n",
    "Tip: do some intermediate steps and save these results in their own variables. The variables can then be used to calculate the final result."
   ]
  },
  {
   "cell_type": "code",
   "execution_count": null,
   "metadata": {
    "collapsed": true,
    "jupyter": {
     "outputs_hidden": true
    },
    "slideshow": {
     "slide_type": "skip"
    }
   },
   "outputs": [],
   "source": [
    "#Write your code here for calculating the invariant mass!\n"
   ]
  },
  {
   "cell_type": "markdown",
   "metadata": {
    "slideshow": {
     "slide_type": "skip"
    }
   },
   "source": [
    "$\\color{purple}{\\text{Check}}$ your results by running the code cell below and answering the questions."
   ]
  },
  {
   "cell_type": "code",
   "execution_count": null,
   "metadata": {
    "collapsed": true,
    "jupyter": {
     "outputs_hidden": true
    },
    "scrolled": true,
    "slideshow": {
     "slide_type": "skip"
    }
   },
   "outputs": [],
   "source": [
    "tarkista_inv_massat(globals())"
   ]
  },
  {
   "cell_type": "markdown",
   "metadata": {
    "slideshow": {
     "slide_type": "skip"
    }
   },
   "source": [
    "\n",
    "<br>\n",
    "<details>\n",
    "    <summary>$\\color{green}{\\text{Psst...}}$</summary>\n",
    "You might have noticed that the invariant mass was already calculated in the 'M' column. If you want, you can compare your results with the once in the table.\n",
    "    \n",
    "        \n",
    "</details>"
   ]
  },
  {
   "cell_type": "markdown",
   "metadata": {
    "slideshow": {
     "slide_type": "skip"
    }
   },
   "source": [
    "\n",
    "## Drawing a histogram from the spikedata\n",
    "You can view your invariant masses with the `head()`-function, but it is not practical to study a list with thousands of items. Therefore we visualize the data so that we can see the physics behind the measurements. In this case we use a **histogram**.\n",
    "A histogram is preferable when studying particle physics, where we have countless events which are distributed based on their probabilities.\n",
    "\n",
    "$\\color{blue}{\\text{Draw a histogram of the calculated invariant masses.}}$ Try it on your own and if you get stuck, check the _tips_. You can also get help from the [tutorial](#hist_tut)\n",
    "\n",
    "<details>\n",
    "    <summary>Tips</summary>\n",
    "\n",
    "    \n",
    "#### the file where the data comes from \n",
    "The invariant masses have been calculated earlier and saved in a variable. Use this variable.\n",
    "    \n",
    "#### range\n",
    "Check the data range for the calculated invariant masses with `max()` ja `min()`- functions. This way you can determine the range for the histogram (`range=(min,max)`).\n",
    "You can alter the range later to get the most significant spike clearly visible.\n",
    "    \n",
    "#### bins, the bars in the histogram\n",
    "Try different values and keep in mind how many events there are in your data. You can check this with the `len()`-function.\n",
    "   \n",
    "</details>"
   ]
  },
  {
   "cell_type": "code",
   "execution_count": null,
   "metadata": {
    "collapsed": true,
    "jupyter": {
     "outputs_hidden": true
    },
    "slideshow": {
     "slide_type": "skip"
    }
   },
   "outputs": [],
   "source": [
    "#Write here your code to draw the histogram. Remember to name the axis and give the histogram a title."
   ]
  },
  {
   "cell_type": "markdown",
   "metadata": {
    "slideshow": {
     "slide_type": "skip"
    }
   },
   "source": [
    "****\n",
    "## Discussion\n",
    "\n",
    "$\\color{blue}{\\text{How was the histogram distributed?}}$\n",
    "\n",
    "\n",
    "$\\color{blue}{\\text{Why was the distribution as it was, or is it just by chance?}}$\n",
    "\n",
    "\n",
    "$\\color{blue}{\\text{Was it necessary to visualize the data with a histogram?}}$\n"
   ]
  },
  {
   "cell_type": "markdown",
   "metadata": {
    "slideshow": {
     "slide_type": "skip"
    }
   },
   "source": [
    "<a id=\"wrapup\"></a>\n",
    "\n",
    "# Comparison of the data"
   ]
  },
  {
   "cell_type": "markdown",
   "metadata": {
    "slideshow": {
     "slide_type": "skip"
    }
   },
   "source": [
    "Study your results and compare them with the following table and graph. **With which particle does your spikedata match?**\n",
    "\n",
    "<br>\n",
    " <img src=\"https://github.com/cms-opendata-education/cms-jupyter-materials-finnish/blob/master/Kuvat/inv_massa.PNG?raw=true\"  align=\"right\" width=\"600px\" title=\"[Kuva 8]  Törmäyksestä syntyneiden kahden myonin invariantin massan jakauma vuosilta 2017 ja 2018. Jakaumasta erottaa selvästi niiden hiukkasten piikit jotka voivat hajota kahdeksi myoniksi.\">\n",
    " <br>\n",
    " \n",
    "The downloaded file is measurement data from CMS (2011). The file contains only the events that caused two muons to emerge. The data from two muons is interesting, because it can originate from the decomposion of several different particles. In the following picture, the distribution of the invariant mass of two muons is visualized. From this distribution we can clearly see which particles can decompose to two muons. In real life research the estimates are made by theoretical physicians and based on these estimates we can determine from which particle the spike is from.\n",
    "\n",
    "\n",
    "\n",
    " |\tHiukkanen | Massa [GeV]    |\n",
    "|----------|:-----------------:|\n",
    "| η (eta) | 0.548 |\n",
    "|  ρ,  (rho) | 0.775|\n",
    "|    ω (omega)     |  0.782     |\n",
    "|   φ (phi)     | 1.019  |\n",
    "|   J/ψ (J/psi) |  3.097  |\n",
    "|   ψ’ (psi) | 3.686 |\n",
    "| Υ (ypsilon) | 9.460 |\n",
    "| Z-bosoni  | 91.188 |\n",
    "\n"
   ]
  },
  {
   "cell_type": "markdown",
   "metadata": {},
   "source": [
    "# Extra exercise\n",
    "\n",
    "The summer student is a little uncertain where the _spikedata_ originates from. The student has another file with CMS muon measurement from the same time period. The code cell below downloads this file for you to analyse it."
   ]
  },
  {
   "cell_type": "code",
   "execution_count": null,
   "metadata": {
    "collapsed": true,
    "jupyter": {
     "outputs_hidden": true
    },
    "slideshow": {
     "slide_type": "skip"
    }
   },
   "outputs": [],
   "source": [
    "# download the file and read the variable 'dimu2'\n",
    "!curl --insecure https://raw.githubusercontent.com/cms-opendata-education/cms-jupyter-materials-finnish/master/Data/DoubleMuRun2011A.csv > DoubleMuRun2011A.csv\n",
    "dimu2 = pd.read_csv('DoubleMuRun2011A.csv')"
   ]
  },
  {
   "cell_type": "code",
   "execution_count": null,
   "metadata": {
    "collapsed": true,
    "jupyter": {
     "outputs_hidden": true
    },
    "slideshow": {
     "slide_type": "skip"
    }
   },
   "outputs": [],
   "source": [
    "#Analyse the file by for example making a histogram of the invariant masses.\n"
   ]
  },
  {
   "cell_type": "markdown",
   "metadata": {},
   "source": [
    "Why does the histogram look different from the graph in the comparison of the results?\n",
    "\n",
    "How could you edit the graph to make it look the same?"
   ]
  },
  {
   "cell_type": "markdown",
   "metadata": {
    "slideshow": {
     "slide_type": "slide"
    }
   },
   "source": [
    "*****\n",
    "<a id=\"sources\"></a>\n",
    "\n",
    "## Sources \n",
    "<a id=\"tk\"></a>\n",
    "[1] Tieteen Kuvalehti 7.7.2015. Kvanttimekaniikkaa viidessä minuutissa. Luettu 25.6.2019 <br>\n",
    "Url:https://tieku.fi/luonto/kvanttimekaniikkaa-viidessa-minuutissa\n",
    "\n",
    "<a id=\"tedvideo\"></a>\n",
    "[2] TED Ed Animation, Schrödinger's cat: A thought experiment in quantum mechanics - Chad Orzel. Katseltu 25.6.2019 <br>\n",
    "Url: https://ed.ted.com/lessons/schrodinger-s-cat-a-thought-experiment-in-quantum-mechanics-chad-orzel\n",
    "\n",
    "<a id=\"cernstandard\"></a>\n",
    "[3] The Standard Model, Copyright  © 2019 CERN <br>\n",
    "Url: https://home.cern/science/physics/standard-model\n",
    "\n",
    "<a id=\"diat\"></a>\n",
    "[4] CMS diat suomeksi <br>\n",
    "Url: https://cms-docdb.cern.ch/cgi-bin/PublicDocDB/RetrieveFile?docid=12398&filename=SetOfPostersFN_HQ_small_16092014.pdf\n",
    "\n",
    "<a id=\"cms\"></a>\n",
    "[5] Detector overview, © Copyright CERN <br>\n",
    "Url: https://cms.cern/detector\n",
    "\n",
    "<a id=\"higs\"></a>\n",
    "[6] Determination of the off-shell Higgs boson signal strength in the high-mass ZZ final state with the ATLAS detector. <br>\n",
    "Url: https://atlas.cern/updates/physics-briefing/higgs-boson-s-shadow\n",
    "\n",
    "<a id=\"mitat\"></a>\n",
    "[7] The Large Hadron Collider, Copyright  © 2019 CERN <br>\n",
    "Url: https://home.cern/science/accelerators/large-hadron-collider\n",
    "\n",
    "\n",
    "## Data\n",
    "#### [Demo data] \n",
    "Thomas McCauley (2016). Zmumu. Jupyter Notebook file. <br>\n",
    "Url: https://github.com/tpmccauley/cmsopendata-jupyter/blob/hst-0.1/Zmumu.ipynb\n",
    "\n",
    "#### [Piikkidata]\n",
    "CMS collaboration (2016). DoubleMu primary dataset in AOD format from RunA of 2011 (/DoubleMu/Run2011A-12Oct2013-v1/AOD). CERN Open Data Portal. \n",
    "Url: http://doi.org/10.7483/OPENDATA.CMS.RZ34.QR6N\n",
    "\n",
    "Data collected from collisions will be saved to AOD (Analysis Object Data) files that can be opened with the ROOT program (https://root.cern.ch/). Structures of the files are very complicated so those can't be handled for example in simple data tables.\n",
    "\n",
    "The data used in the analysis has been collected by the CMS detector in 2011. From the original data a CSV file containing only some of the collision events and information has been derived. The original data is saved in AOD format that can be read with ROOT program. Open the link http://opendata.cern.ch/record/17 and take a look how large the original datafile is from the section Characteristics.\n",
    "\n",
    "From the original datafile only collision events with exactly two muons detected have been selected to the CSV file. The selection is done with the code similar to the one in the link http://opendata.cern.ch/record/552. In practice the code will select wanted values from the original file and write them to the CSV file. \n",
    "\n",
    "## Kuvat\n",
    "[Kuva 1]  Standard Model of Elementary Particles.svg From Wikimedia Commons, CC BY-SA 3.0. <br>\n",
    "Url: https://commons.wikimedia.org/wiki/File:Standard_Model_of_Elementary_Particles.svg\n",
    "\n",
    "[Kuva 2] CMS-OUTREACH-2016-013 Title Set of CMS Brochures (2015) Luettu 25.6.2019 <br>\n",
    "Url: https://cds.cern.ch/record/2204854\n",
    "\n",
    "[Kuva 3] CMS-OUTREACH-2016-027, Title\tInteractive Slice of the CMS detector, Author Davis, Siona Ruth (CERN) <br>\n",
    "Url: https://cds.cern.ch/record/2205172\n",
    "\n",
    "[Kuva 4] Khan Academy Using the Right-Hand Rule Luettu 25.6.2019 <br>\n",
    "Url: https://www.khanacademy.org/test-prep/mcat/physical-processes/magnetism-mcat/a/using-the-right-hand-rule\n",
    "\n",
    "\n",
    "[Kuva 5] P. Mouche, Overall view of the LHC. Vue d'ensemble du LHC, 2014. <br>\n",
    "Url: https://cds.cern.ch/record/1708847.\n",
    "\n",
    "\n",
    "[Kuva 6] LHC Project Illustrations / Civil engineering\t\tLHC-PHO-1998-325\n",
    "Magnetic field induced by the LHC dipole's superconducting coils. Conditions of Use © 1998-2019 CERN <br>\n",
    "Url: http://cds.cern.ch/record/841511\n",
    "\n",
    "[Kuva 7] Displays of candidate VHcc events, CMS-PHO-EVENTS-2019-006-12, Conditions of Use © 2019 CERN <br>\n",
    "Url: https://cds.cern.ch/record/2682635\n",
    "\n",
    "[Kuva 8] HLT Dimuon Invariant Mass Distributions in 2017 and 2018 ( CMS DP-2018/055) <br>\n",
    "Url: https://twiki.cern.ch/twiki/bin/view/CMSPublic/HLTDiMuon2017and2018 \n",
    "\n",
    "\n"
   ]
  }
 ],
 "metadata": {
  "kernelspec": {
   "display_name": "Python 3",
   "language": "python",
   "name": "python3"
  },
  "language_info": {
   "codemirror_mode": {
    "name": "ipython",
    "version": 3
   },
   "file_extension": ".py",
   "mimetype": "text/x-python",
   "name": "python",
   "nbconvert_exporter": "python",
   "pygments_lexer": "ipython3",
   "version": "3.10.10"
  },
  "toc-showmarkdowntxt": false,
  "toc-showtags": false,
  "vscode": {
   "interpreter": {
    "hash": "21f109854f6355d526c41eeee3c10629f5ce76e78d921c4a5ce337b7dbd6bda7"
   }
  }
 },
 "nbformat": 4,
 "nbformat_minor": 4
}
