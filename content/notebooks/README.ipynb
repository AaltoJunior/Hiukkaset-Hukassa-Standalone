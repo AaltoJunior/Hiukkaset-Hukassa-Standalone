{
 "cells": [
  {
   "cell_type": "markdown",
   "id": "512c1253",
   "metadata": {},
   "source": [
    "# Hiukkaset hukassa\n",
    "\n",
    "Suomenkieleiseen työpajaan pääset [tästä!](FI/fi_HiukkasetHukassaOppilas.ipynb)"
   ]
  },
  {
   "cell_type": "markdown",
   "id": "7cb57185",
   "metadata": {},
   "source": [
    "# Lost particles\n",
    "\n",
    "Access the English workshop [here!](EN/en_HiukkasetHukassaOppilas.ipynb)"
   ]
  }
 ],
 "metadata": {
  "language_info": {
   "name": "python"
  }
 },
 "nbformat": 4,
 "nbformat_minor": 5
}
