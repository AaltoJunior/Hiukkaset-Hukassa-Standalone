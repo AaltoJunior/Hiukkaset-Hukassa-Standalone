{
 "cells": [
  {
   "cell_type": "markdown",
   "metadata": {
    "slideshow": {
     "slide_type": "-"
    }
   },
   "source": [
    "<br>\n",
    " <img src=\"https://github.com/cms-opendata-education/cms-jupyter-materials-finnish/blob/master/Kuvat/CMSlogo_color_label_1024_May2014.png?raw=true\"  align=\"right\" width=\"100px\" title=\"CMS projektin oma logo\">                   \n",
    " <img src=\"https://github.com/cms-opendata-education/cms-jupyter-materials-finnish/blob/master/Kuvat/aaltojunior_logo.PNG?raw=true\"  align=\"right\" width=\"150px\" title=\"CMS projektin oma logo\">\n",
    " <br>\n",
    " \n",
    "\n",
    "# Hiukkaset hukassa \n",
    "     Aalto-yliopisto Junior x CMS open data\n",
    "Tervetuloa kiehtovan ja kummallisen hiukkasfysiikan pariin. \n",
    "\n",
    "Sisältö:\n",
    "\n",
    "1. [Koodin alustus](#alustus)\n",
    "2. [Tutoriaali Pandas DataFrameihin](#tut)\n",
    "3. [Tehtävän alustus](#teht)\n",
    "    - [Invariantti massa](#inv)\n",
    "    - [Histogrammit](#demo1)\n",
    "4. [Datan kimppuun](#handson)\n",
    "5. [Tulosten vertailu](#wrapup)\n",
    "6. [Lähteet](#sources)\n",
    "\n",
    "\n",
    "****\n",
    "\n",
    "# Ihan aluksi...\n",
    "\n",
    "Tämä tiedosto on oppilaan versio, joka sisältää tehtäviä ja demoja CMS:n avoimen datan parissa. Vastatkaa kaikkiin $\\color{blue}{\\text{kysymyksiin}}$ ja pitäkää hauskaa datan kanssa! \n",
    "\n",
    "Tiedoston muoto on **Jupyter notebook**, joka yhdistää tekstiä ja **Python**-ohjelmointikielellä kirjoitettua koodia. Pythonille tyypillistä on, että käytetään paljon valmiiksi kirjoitettuja **kirjastopaketteja**. Näin käyttäjän ei tarvitse itse keksiä, miten jokin matemaattinen operaatio suoritetaan tai kuinka tietynlaista dataa käsitellään.\n",
    "\n",
    "Jupyter-notebookeissa koodi ja tekstisisältö on jaoteltu lohkoittain. Lohkoja on mahdollista ajaa askel kerrallaan järjestyksessä painamalla näppäimiä $\\color{red}{\\text{ [shift] + [enter]}}$ \n",
    "\n",
    "Muista edetä järjestyksessä, koska osa koodista voi olla riippuvaista koodista joka on kirjoitettu aiempaan lohkoon!\n",
    "\n"
   ]
  },
  {
   "cell_type": "markdown",
   "metadata": {},
   "source": [
    "<a id=\"alustus\"></a>\n",
    "### Koodin alustus\n",
    "Alla on koodisolu, joka ajettaessa hakee tarvittavat Python-paketit. (Linkkien takana lisätietoa/dokumentaatiota kyseisistä kirjastoista joka ei ole pakollista.)\n",
    "\n",
    "- [Pandas](https://pandas.pydata.org/docs/user_guide/10min.html) on data-analyysiä varten\n",
    "- [numpy](https://numpy.org/learn/) on hyödyllinen tieteellistä laskentaa varten\n",
    "- [matplotlib.pyplot](https://matplotlib.org/stable/tutorials/index) mahdollistaa kuvaajien piirtämisen\n",
    "\n",
    "Määritetään näille myös lyhyemmät nimet (pd, np ja plt), jotta myöhemmin niitä käytettäessä ei tarvitse kirjoittaa koko paketin nimeä.\n"
   ]
  },
  {
   "cell_type": "code",
   "execution_count": null,
   "metadata": {
    "slideshow": {
     "slide_type": "-"
    }
   },
   "outputs": [],
   "source": [
    "import pandas as pd\n",
    "import numpy as np\n",
    "import matplotlib.pyplot as plt\n",
    "import requests\n",
    "from fi_apufunktiot import *"
   ]
  },
  {
   "cell_type": "code",
   "execution_count": 3,
   "metadata": {
    "slideshow": {
     "slide_type": "skip"
    },
    "tags": []
   },
   "outputs": [],
   "source": [
    "# Määritellään taulukko, jota tutkitaan ja otsikoidaan rivit ja sarakkeet\n",
    "LHC_koeasemat = pd.DataFrame({'Nimi':['CMS', 'ATLAS', 'ALICE', 'LHCb'],\n",
    "        'Paino':[14000, 7000, 10000, 5600], #tonneja\n",
    "        'Pituus':[21, 46, 26, 21], #metrejä\n",
    "        'Leveys':[15, 25, 16, 13], #metrejä\n",
    "        'Korkeus':[15, 25, 16, 10]})  #metrejä\n",
    "# luodaan taulukko ja tallennetaan se muuttujaan \"LHC_koeasemat\" \n",
    "# Taulukko sisältää LHC kiihdyttimen varrella olevien koeasemien tietoja [lähdee]."
   ]
  },
  {
   "cell_type": "code",
   "execution_count": null,
   "metadata": {
    "slideshow": {
     "slide_type": "skip"
    },
    "tags": []
   },
   "outputs": [],
   "source": [
    "# HEAD-komennon käyttö:\n",
    "LHC_koeasemat.head() #palauttaa taulukon 5 ensimmäistä riviä"
   ]
  },
  {
   "cell_type": "code",
   "execution_count": null,
   "metadata": {
    "slideshow": {
     "slide_type": "skip"
    },
    "tags": []
   },
   "outputs": [],
   "source": [
    "# Valitaan sarake \"Nimi\" ja tulostetaan se\n",
    "print(LHC_koeasemat.Nimi)"
   ]
  },
  {
   "cell_type": "code",
   "execution_count": null,
   "metadata": {
    "slideshow": {
     "slide_type": "skip"
    },
    "tags": []
   },
   "outputs": [],
   "source": [
    "# lasketaan montako riviä taulukossa on ja tulostetaan vastaus\n",
    "pituus = len(LHC_koeasemat)\n",
    "print(pituus)"
   ]
  },
  {
   "cell_type": "code",
   "execution_count": null,
   "metadata": {
    "slideshow": {
     "slide_type": "skip"
    },
    "tags": []
   },
   "outputs": [],
   "source": [
    "# LHC_koeasemat.Paino                 valitsee tutkittavaksi sarakkeen jossa on ilmaisimien painot\n",
    "# max(LHC_koeasemat.Paino )         etsii painoista suurimman\n",
    "# print(max(LHC_koeasemat.Paino))     tulostaa max() funktiolla saaadun suurimman massan.\n",
    "\n",
    "suurin = max(LHC_koeasemat.Paino)\n",
    "print(suurin)\n",
    "\n",
    "#samaan tapaan:\n",
    "pienin = min(LHC_koeasemat.Korkeus)\n",
    "print(pienin)"
   ]
  },
  {
   "cell_type": "markdown",
   "metadata": {
    "slideshow": {
     "slide_type": "skip"
    }
   },
   "source": [
    "<br>\n",
    "<br>\n",
    "\n",
    "\n",
    "#### Laskuja Pythonilla\n",
    "Python on monikäyttöinen ohjelmointikieli, jolla voidaan käsitellä suuria määriä dataa ja suorittaa teokkaasti laskutoimituksia. Aloitetaan harjoittelu peruslaskuista ja käytetään yllä esitettyä esimerkkiä hiukkasfysiikassa käytetyistä ilmaisimista. Käytetään taulukon dataa laskemaan hiukan avaruudellisia mittoja tutuilla kaavoilla. Esimerkkitaulukko on jo tallennettu tietokoneen muistiin.\n",
    "\n",
    "Alussa latasimme _numpy_ kirjaston ja tallensimme sen nimellä _np_. Kirjasto sisältää valmiiksi määriteltyjä funktioita, jota helpottavat laskujen suorittamista. Esimerkiksi `np.sqrt(x)` vastaa $\\sqrt x$. Lisäksi `(x)**2` ja `np.square(x)` vastaavat molemmat $x^2$.\n",
    "\n",
    "Yksinkertaisuuden vuoksi oletetaan, että kaikki listan hiukkasilmaisimet olisivat lieriöitä. Näin ei kuitenkaan todellisuudessa ole."
   ]
  },
  {
   "cell_type": "code",
   "execution_count": null,
   "metadata": {
    "slideshow": {
     "slide_type": "skip"
    },
    "tags": []
   },
   "outputs": [],
   "source": [
    "#muistellaan mitä taulukko näyttikään\n",
    "LHC_koeasemat.head()"
   ]
  },
  {
   "cell_type": "markdown",
   "metadata": {
    "slideshow": {
     "slide_type": "skip"
    }
   },
   "source": [
    " <img src=\"../../img/laskuharjoitus_lavistaja.png\"  align=\"right\" width=\"400px\" title=\"[Kuva 1]  Törmäyksestä syntyneiden kahden myonin invariantin massan jakauma vuosilta 2017 ja 2018. Jakaumasta erottaa selvästi niiden hiukkasten piikit jotka voivat hajota kahdeksi myoniksi.\">\n",
    "\n",
    " \n",
    "Koska teimme oletuksen, että jokainen ilmaisin on lieriö, voidaan helposti laskea \n",
    "- **tilavuudet V :**  $\\pi (\\frac{d}{2})^2 \\cdot l$  \n",
    "- **tiheydet :** $\\frac{m}{V}$.\n",
    "- **lävistäjät x :** pythagoran lauseen avulla, $\\sqrt{(d)^2+l^2}$\n",
    "\n",
    "missä **$r$** on lieriön pohjan lävistäjä eli ilmaisimen korkeus, **$l$** lieriön korkeus eli ilmaisimen pituus ja **$m$** ilmaisimen massa."
   ]
  },
  {
   "cell_type": "code",
   "execution_count": null,
   "metadata": {
    "slideshow": {
     "slide_type": "skip"
    },
    "tags": []
   },
   "outputs": [],
   "source": [
    "# tilavuuden laskeminen \n",
    "##  np.pi on piin likiarvo\n",
    "##  kahdella tähdellä merkitään potenssia\n",
    "\n",
    "tilavuus = np.pi * (LHC_koeasemat.Korkeus /2 )**2 * LHC_koeasemat.Pituus\n",
    "print(tilavuus)"
   ]
  },
  {
   "cell_type": "code",
   "execution_count": null,
   "metadata": {
    "slideshow": {
     "slide_type": "skip"
    },
    "tags": []
   },
   "outputs": [],
   "source": [
    "# tiheyden laskeminen\n",
    "\n",
    "tiheys = LHC_koeasemat.Paino / tilavuus\n",
    "print(tiheys)"
   ]
  },
  {
   "cell_type": "code",
   "execution_count": null,
   "metadata": {
    "slideshow": {
     "slide_type": "skip"
    },
    "tags": []
   },
   "outputs": [],
   "source": [
    "# lävistäjän laskeminen\n",
    "\n",
    "lävistäjä = np.sqrt((LHC_koeasemat.Pituus)**2 + (LHC_koeasemat.Korkeus)**2)\n",
    "print(lävistäjä)"
   ]
  },
  {
   "cell_type": "markdown",
   "metadata": {
    "slideshow": {
     "slide_type": "skip"
    }
   },
   "source": [
    "<a id=\"hist_tut\"></a>\n",
    "#### Histogrammi Pythonilla\n",
    "\n",
    "\n",
    "Käytetään histogrammin piirtoon _matplotlib.pyplot_ pakettia jonka tallensimme alussa nimellä _plt_. Paketilla piirretään histogrammi helposti funktion `plt.hist()` avulla."
   ]
  },
  {
   "cell_type": "code",
   "execution_count": null,
   "metadata": {
    "slideshow": {
     "slide_type": "skip"
    },
    "tags": []
   },
   "outputs": [],
   "source": [
    "# Luodaan histogrammi\n",
    "# plt.hist() ottaa argumenteiksi kolme arvoa:\n",
    "### tiedoston nimi josta histogrammi piirretään\n",
    "### bins kertoo moneenko pylvääseen havainnot jaetaan\n",
    "### range määrittää alueen jolle histogrammi luodaan\n",
    "\n",
    "plt.hist(LHC_koeasemat.Korkeus, bins=4, range=(10,30))  \n",
    "\n",
    "# nimetään akselit\n",
    "plt.xlabel(\"Korkeus (m)\")\n",
    "plt.ylabel(\"Havaintojen lukumäärä\")\n",
    "\n",
    "# annetaan kuvaajalle otsikko\n",
    "plt.title(\"Histogrammi koeasemien korkeudesta\")\n",
    "\n",
    "# tulostetaan luotu kuvaaja\n",
    "plt.show()"
   ]
  },
  {
   "cell_type": "markdown",
   "metadata": {},
   "source": [
    "Pienillä datamäärillä histogrammi ei tuo lisäarvoa numeroiden tarkasteluun, eikä siitä ole hyötyä. Saattaa kuitenkin olla, että hiukkasfysiikan datamäärillä histogrammilla on mahdollista tuoda selvyyttä esimerkiksi _piikkidataan_...\n"
   ]
  },
  {
   "cell_type": "markdown",
   "metadata": {
    "slideshow": {
     "slide_type": "slide"
    }
   },
   "source": [
    "****\n",
    "\n",
    "<a id=\"teht\"></a>\n",
    "# Tehtävä\n",
    "\n",
    "CERN:in kesäopiskelija on saanut tehtäväkseen tutkia CMS:n mittaamaa tutkimusdataa vuoden 2011 ajoilta. Dataan on valikoitu tapahtumia jossa hiukkasilmaisin on havainnut kaksi myonia. Aikaisempien tukimusten perusteella tiedetään että moni hiukkanen voi hajota juuri kahdeksi myoniksi ja ne voidaan tunnistaa invariantin massan avulla. Kiireinen kesäopiskelija on unohtanut pitää tärkeän mittausdatan järjestyksessä. Nyt hänellä on käsissään kuusi oudosti nimettyä tiedostoa CMS:n mittausdataa. Jokaisessa tiedostossa on mitattuja arvoja kahdesta myonista jotka ovat kenties peräisin jonkun hiukkasen hajoamisesta. Kesäopiskelija pyytää teidän apua tiedostojen sisällön tutkimisessa. \n",
    "\n",
    "$\\color{black}{\\text{Hypoteesi: Emohiukkasten massat voidaan selvittää invariantin massan arvojen avulla ja näin löytää hiukkaset jotka voivat hajota kahdeksi myoniksi.}}$"
   ]
  },
  {
   "cell_type": "markdown",
   "metadata": {},
   "source": [
    "****\n",
    "<a id=\"inv\"></a>\n",
    "## Invariantti massa?\n",
    "\n",
    "Hiukkasfysiikan maailmassa, tavallisen mekaniikan kaavat eivät välttämättä enää päde massan muuttuessa energiaksi ja toisin päin. Säilymislakeja toki kuitenkin on! Hiukkasten energian ja liikemäärän avulla voidaan muodostaa suure jota kutsutaan **invariantiksi massaksi**. Se on matemaattinen arvo, joka kuvaa hajonneelle emohiukkaselle ominaista massaa ja on \"invariantti\" mittausympäristölle, eli se voidaan laskea missä ja mille tahansa.\n",
    "\n",
    "Tämä suure on hyödyllinen kun käsitellään hiukkasia, jotka hajoavat alle sekunnin murto-osassa. Esimerkiksi Higgsin hiukkasen eliniänodote on luokkaa $10^{-22}$ sekunttia [[6](#higs)], joten sitä voi olla vaikea punnita edes analyysivaa'alla. CMS:n kaltainen laite mittaa hajoamisessa syntyneiden hiukkasten, tytärhiukkasten, liikemäärää ja energiaa, ja _invariantti massa_ voidaan laskea niiden avulla. Tietystä hajoamisesta syntyneiden tytärhiukkasten invariantti massa on lähellä emohiukkasen massaa. Toisiinsa liittymättömillä hiukkasilla invariantti massa taas ei kuvaa mitään, vaan on pelkkää taustakohinaa.\n",
    "\n",
    "**Invariantti massa siis säilyy hiukkasen hajotessa uusiksi hiukkasiksi.** Hiukkasilmaisimet kuten CMS havaitsevat lähinnä näitä tytärhiukkasia, jotka ovat emohiukkasia stabiilimpia. Koska jokaisessa törmäyksessä on valtavat määrät hajoamisia, ja toisiinsa liittymättömien hiukkasten invariantin massan laskeminen antaa pelkkää kohinaa, on tutkijoiden tarkastelevat suuria määriä dataa. **Histogrammi** on erinomainen työkalu datan tarkasteluun, sillä siinä kohina on helppo erottaa merkityksellisistä tuloksista. Piikit invariantin massan histogrammissa voivat viitata tietyn energiseen emohiukkaseen.\n",
    "[Lisätietoa englanniksi](https://profmattstrassler.com/articles-and-posts/particle-physics-basics/mass-energy-matter-etc/mass-and-energy/)\n",
    "\n",
    "<br>\n",
    " <img src=\"https://github.com/cms-opendata-education/cms-jupyter-materials-finnish/blob/master/Kuvat/inv_massa.PNG?raw=true\"  align=\"left\" width=\"600px\" title=\"[Kuva 8]  Törmäyksestä syntyneiden kahden myonin invariantin massan jakauma vuosilta 2017 ja 2018. Jakaumasta erottaa selvästi niiden hiukkasten piikit jotka voivat hajota kahdeksi myoniksi.\">\n",
    " <br>\n",
    " \n",
    "\n",
    "****"
   ]
  },
  {
   "cell_type": "markdown",
   "metadata": {},
   "source": [
    "<a id=\"demo1\"></a>\n",
    "**Histogrammit eri datamäärillä**\n",
    "\n",
    "Kokeillaan, miten datan määrä vaikuttaa tuloksiin. Alla on koodi, joka piirtää annetulla datamäärällä (4 kertaa) histogrammin kahden suurienergisen myonin invariantista massasta. Aloitetaan tutkimalla pieniä lukuja 0-20 ja kasvatetaan datan määrää vähitellen. (esim. 5, 20, 300, 10000)"
   ]
  },
  {
   "cell_type": "code",
   "execution_count": null,
   "metadata": {
    "tags": []
   },
   "outputs": [],
   "source": [
    "# Ladataan data tiedostoon ja tallennetaan se muuttujaan 'data'.\n",
    "url = \"https://raw.githubusercontent.com/cms-opendata-education/cms-jupyter-materials-finnish/master/Data/Zmumu_Run2011A_massoilla.csv\"\n",
    "filename = \"Zmumu_Run2011A_massoilla.csv\"\n",
    "\n",
    "r = requests.get(url)\n",
    "r.raise_for_status()  # ensure we know if download fails\n",
    "\n",
    "with open(filename, \"wb\") as f:\n",
    "    f.write(r.content)\n",
    "\n",
    "print(\"File downloaded:\", filename)\n",
    "\n",
    "data = pd.read_csv('Zmumu_Run2011A_massoilla.csv')\n",
    "\n",
    "# Tallennetaan datatiedostossa olevat invarianttien massojen arvot muuttujaan 'invariantti_massa'.\n",
    "invariantti_massa = data['M']\n"
   ]
  },
  {
   "cell_type": "markdown",
   "metadata": {
    "slideshow": {
     "slide_type": "skip"
    },
    "tags": []
   },
   "source": [
    "****\n",
    "<a id=\"handson\"></a>\n",
    "# Datan kimppuun\n"
   ]
  },
  {
   "cell_type": "code",
   "execution_count": null,
   "metadata": {},
   "outputs": [],
   "source": [
    "# Ladataan data tiedostot\n",
    "base_url = \"https://raw.githubusercontent.com/cms-opendata-education/cms-jupyter-materials-finnish/master/Data/\"\n",
    "filenames = [f\"piikkidata{i}.csv\" for i in range(1, 7)]\n",
    "\n",
    "for filename in filenames:\n",
    "    url = base_url + filename\n",
    "    response = requests.get(url, verify=False)  # verify=False vastaa --insecure optiota\n",
    "    \n",
    "    if response.status_code == 200:\n",
    "        with open(filename, 'w') as file:\n",
    "            file.write(response.text)\n",
    "        print(f\"Ladattu: {filename}\")\n",
    "    else:\n",
    "        print(f\"Virhe ladattaessa {filename}: {response.status_code}\")"
   ]
  },
  {
   "cell_type": "markdown",
   "metadata": {},
   "source": [
    "\n",
    "\"**\\#**\" merkkaa koodissa kommentin jota kone ei aja. Kommentit helpottavat koodin lukemista ja sen toiminnan ymmärtämistä.\n",
    "\n",
    "Poistakaa alla olevasta koodista kommentin **\\#**-merkki ryhmänne numeron mukaisilta riveiltä (2 riviä) ja ajakaa solu. Käsky `pd.read_csv()` lukee suluissa olevan csv-tiedoston ja tallentaa sen sisältämän datan taulukkona muuttujaan. Annetaan muuttujalle nimeksi _piikkidata_ + _ryhmän numero_.\n",
    "\n"
   ]
  },
  {
   "cell_type": "code",
   "execution_count": 2,
   "metadata": {
    "slideshow": {
     "slide_type": "skip"
    }
   },
   "outputs": [],
   "source": [
    "piikkidata1 = pd.read_csv('piikkidata1.csv')\n",
    "\n",
    "#piikkidata2 = pd.read_csv('piikkidata2.csv')\n",
    "\n",
    "#piikkidata3 = pd.read_csv('piikkidata3.csv')\n",
    "\n",
    "#piikkidata4 = pd.read_csv('piikkidata4.csv')\n",
    "\n",
    "#piikkidata5 = pd.read_csv('piikkidata5.csv')\n",
    "\n",
    "#piikkidata6 = pd.read_csv('piikkidata6.csv')"
   ]
  },
  {
   "cell_type": "markdown",
   "metadata": {
    "slideshow": {
     "slide_type": "skip"
    }
   },
   "source": [
    "Edellisessä koodisolussa latasit tiedoston netistä, luit sen csv-muodosta ja tallensit muuttujaan. Mutta miten saamme tietää miltä lataamamme data näyttää? Tutkia ryhmänne piikkidataa ja lähtekää selvittämään vastaukset ensimmäisiin kysymyksiin.\n",
    "\n",
    "Mikäli tenkkapoo iskee tässä vaiheessa, kannattaa vilkaista [Aiempia koodipalikoita](#alustus) taulukoiden käsittelystä (löytyy tiedoston alusta)."
   ]
  },
  {
   "cell_type": "markdown",
   "metadata": {
    "slideshow": {
     "slide_type": "skip"
    }
   },
   "source": [
    "\n",
    "## Tutkikaa ladattua tiedostoa \n",
    "Seuraavaksi kirjoitetaan itse koodia.\n",
    "\n",
    "Haetussa datassa on monta törmäystapahtumaa, joista jokaisesta on tallennettu useita arvoja. Lisäksi jokaisessa tapahtumassa syntyi 2 myonia jotenka dataan on tallennettu arvot molemmille myoneille. Numerointi (1 tai 2) kertoo kummalle myonille kyseinen arvo kuuluu. \n",
    "\n",
    "Tehtävän kannalta __oleellisia ovat__:\n",
    "   - __px__ : $p_x$ on kyseisen myonin (1 tai 2) liikemäärän x-akselin suuntainen komponentti (GeV).\n",
    "   - __py__ : $p_y$ on myonin (1 tai 2) liikemäärän y-komponentti (GeV).\n",
    "   - __pz__ : $p_z$ on myonin (1 tai 2) liikemäärän z-komponentti (GeV).\n",
    "   - __E1 ja E2__ : $E$ on myonin (1 tai 2) energia (GeV).\n",
    "   \n",
    "\n",
    "<br>\n",
    "<details>\n",
    "    <summary>Muita arvoja taulukossa</summary>\n",
    "    \n",
    "   - __Run__ ja __Event__ : kertovat mistä törmäyksestä kyseisen rivin data on peräisin.\n",
    "   - __pt__ : $p_t$ (transverse momentum) myonin liikemäärän komponentti joka on kohtisuorassa hiukkassuihkua vastaan (GeV).\n",
    "   - __eta__ : $\\eta$ on pseudorapiditeetti.\n",
    "   - __phi__ : $\\phi$ (atsimuuttikulma) on kulma jonka suuntaan hiukkanen kulkee jos detektoria tarkastellaan  hiukkassuihkun akselilta (rad).\n",
    "   - __Q__ : on myonin varaus. Jokaisessa dataan valitussa törmäyksessä syntyy myoni ja antimyoni ($\\mu^+ , \\mu^-$) [1].\n",
    "   - __M__ : palataan tähän myöhemmin.\n",
    "   \n",
    "   </details>\n",
    "<br>\n",
    " \n",
    " Kysymykset:\n",
    "- $\\color{blue}{\\text{Kuinka monta mittausta tiedostossa on?}}$\n",
    "- $\\color{blue}{\\text{Mikä on suurin energia, joka myonille on havaittu?}}$\n",
    "- $\\color{blue}{\\text{Mikä on pienin energia, joka myonille on havaittu?}}$\n",
    "\n",
    "\n",
    "Kirjoittakaa koodi jolla saatte vastaukset kysymyksiin. "
   ]
  },
  {
   "cell_type": "code",
   "execution_count": 31,
   "metadata": {
    "tags": []
   },
   "outputs": [],
   "source": [
    "# Käyttäkää head()-funktiota pikkidataanne\n"
   ]
  },
  {
   "cell_type": "code",
   "execution_count": null,
   "metadata": {
    "slideshow": {
     "slide_type": "skip"
    },
    "tags": []
   },
   "outputs": [],
   "source": [
    "# Tähän tulee itse kirjoittamanne koodi\n"
   ]
  },
  {
   "cell_type": "markdown",
   "metadata": {
    "slideshow": {
     "slide_type": "skip"
    }
   },
   "source": [
    "$\\color{purple}{\\text{Tarkistakaa}}$ saamanne arvot ajamalla alla olevat solut ja noudattamalla promptin ohjeita."
   ]
  },
  {
   "cell_type": "code",
   "execution_count": null,
   "metadata": {
    "slideshow": {
     "slide_type": "skip"
    },
    "tags": []
   },
   "outputs": [],
   "source": [
    "# Kuinka monta mittausta tiedostossa on?\n",
    "tarkista_eventit(globals())"
   ]
  },
  {
   "cell_type": "code",
   "execution_count": null,
   "metadata": {},
   "outputs": [],
   "source": [
    "# Mikä on suurin energia, joka myonille on havaittu?\n",
    "tarkista_maksimiE(globals())"
   ]
  },
  {
   "cell_type": "code",
   "execution_count": null,
   "metadata": {},
   "outputs": [],
   "source": [
    "# Mikä on pienin energia, joka myonille on havaittu?\n",
    "tarkista_minimiE(globals())"
   ]
  },
  {
   "cell_type": "markdown",
   "metadata": {
    "slideshow": {
     "slide_type": "skip"
    }
   },
   "source": [
    "\n",
    "## Invariantin massan laskeminen\n",
    "\n",
    "Datassa on havaintoja kahdesta törmäyksen synnyttämästä myonista. Jotta voisimme ymmmärtää paremmin mitä törmäyksessä on todella tapahtunut, on dataa kerättävä paljon, ja sen perusteella päätellä, mitä tapahtui siellä, mihin hiukkasilmaisinkaan ei näe. Törmäyksestä sinkoilevista vakaammista hiukkasista ja niiden energioista voimme päätellä invariantin massan avulla, mistä ne saattavat olla kotoisin.\n",
    "\n",
    "$\\color{blue}{\\text{Laskekaa ryhmänne datalle invariantin massan arvot}}$, ehkä sieltä löytyy jotain mielenkiintoista?"
   ]
  },
  {
   "cell_type": "markdown",
   "metadata": {
    "slideshow": {
     "slide_type": "skip"
    }
   },
   "source": [
    "Käytetään laskussa seuraavaa lauseketta invariantille massalle \n",
    "\n",
    "$m_0 = \\sqrt{(E_1 + E_2)^2 - \\|\\textbf{p}_1 + \\textbf{p}_2 \\| ^2}$\n",
    "\n",
    "missä $\\|\\textbf{p}_1 + \\textbf{p}_2 \\|^2$ on vektorinormin neliö ja se voidaan laskea seuraavan kaavan mukaisesti,\n",
    "\n",
    " $\\|\\textbf{p}_1 + \\textbf{p}_2 \\|^2=(p_{x1}+p_{x2})^2+(p_{y1}+p_{y2})^2+(p_{z1}+p_{z2})^2$\n",
    "\n",
    "Kannattaa suorittaa välivaiheita ja tallentaa niiden tulokset muuttujiin. Muuttujia voi sitten käyttää lopullisen tuloksen laskemisessa."
   ]
  },
  {
   "cell_type": "code",
   "execution_count": null,
   "metadata": {
    "collapsed": true,
    "jupyter": {
     "outputs_hidden": true
    },
    "slideshow": {
     "slide_type": "skip"
    }
   },
   "outputs": [],
   "source": [
    "# Kirjoittakaa tähän koodi joka suorittaa invariantin massan laskun\n"
   ]
  },
  {
   "cell_type": "markdown",
   "metadata": {
    "slideshow": {
     "slide_type": "skip"
    }
   },
   "source": [
    "$\\color{purple}{\\text{Tarkistakaa}}$ saamanne arvot ajamalla alla oleva solu ja vastaamalla kysymyksiin."
   ]
  },
  {
   "cell_type": "code",
   "execution_count": null,
   "metadata": {
    "collapsed": true,
    "jupyter": {
     "outputs_hidden": true
    },
    "scrolled": true,
    "slideshow": {
     "slide_type": "skip"
    }
   },
   "outputs": [],
   "source": [
    "tarkista_inv_massat(globals())"
   ]
  },
  {
   "cell_type": "markdown",
   "metadata": {
    "slideshow": {
     "slide_type": "skip"
    }
   },
   "source": [
    "\n",
    "<br>\n",
    "<details>\n",
    "    <summary>$\\color{green}{\\text{Psst...}}$</summary>\n",
    "Tarkkasilmäisimmät saattoivatkin jo huomata, että invariantti massa oli jo valmiiksi laskettuna sarakkessa 'M'. Voitte halutessanne vertailla saamianne vastauksia valmiiksi laskettuihin. \n",
    "    \n",
    "        \n",
    "</details>"
   ]
  },
  {
   "cell_type": "markdown",
   "metadata": {
    "slideshow": {
     "slide_type": "skip"
    }
   },
   "source": [
    "\n",
    "## Histogrammi piikkidatasta\n",
    "Voitte tarkastella laskemianne invariantin massan arvoja `head()` funktion avulla, mutta tuhansien numeroiden katselu listana ei ole järkevää. Nähdäksemme fysiikkan mittausten takana, on numerot esitettävä havainnolistavassa muodossa. Tässä kohtaa astuu esiin **histogrammi**. Histogrammi on voittamaton työkalu hiukkasfysiikan tutkimuksessa, jossa tapahtummia on suuri määrä ja ne jakautuvat todennäköisyyksien mukaan.\n",
    "\n",
    "$\\color{blue}{\\text{Piirtäkää laskemistanne invariantin massan arvoista histogrammi.}}$ Kokeilkaa ensin itse ja kurkatkaa sitten _vinkkejä_. Apua saa myös tuttuun tapaan [tutoriaalista](#hist_tut)\n",
    "\n",
    "<details>\n",
    "    <summary>Vinkkejä</summary>\n",
    "\n",
    "    \n",
    "#### tiedosto, eli mistä arvot tulevat \n",
    "Invariantin massan arvot on laskettu jo aiemmin ja tallennettu johonkin muuttujaan. Riittää siis, että käyttää kyseistä muuttujaa.\n",
    "    \n",
    "#### range, eli rajaus\n",
    "Kannattaa ensin tarkastella `max()` ja `min()` funktioiden avulla millaisia arvoja invariantti massa saa laskujenne tuloksena. Näin saadaan määriteltyä histogrammin piirtoalue (`range=(min,max)`) kätevästi.\n",
    "On kuitenkin järkevää rajata kuvaa tarkemmin myös tämän jälkeen, jotta mahdollinen piikki erottuu mahdollisimman hyvin.\n",
    "    \n",
    "#### bins, eli histogrammin lokerot\n",
    "Kokeilkaa eri vaihtoehtoja, ja pitäkää mielessä montako tapahtumaa datassa olikaan. Sen voi tarkistaa myös `len()` funktion avulla. \n",
    "    \n",
    "</details>"
   ]
  },
  {
   "cell_type": "code",
   "execution_count": null,
   "metadata": {
    "collapsed": true,
    "jupyter": {
     "outputs_hidden": true
    },
    "slideshow": {
     "slide_type": "skip"
    }
   },
   "outputs": [],
   "source": [
    "# Kirjoittakaa tähän koodi joka piirtää histogrammin. Muistakaa myös nimetä akselit ja kuvaaja."
   ]
  },
  {
   "cell_type": "markdown",
   "metadata": {
    "slideshow": {
     "slide_type": "skip"
    }
   },
   "source": [
    "****\n",
    "## Pohdintaa\n",
    "\n",
    "$\\color{blue}{\\text{Oliko histogrammissa nähtävissä jonkinlainen kuvio tai jakauma?}}$\n",
    "\n",
    "\n",
    "$\\color{blue}{\\text{Mistä mahdollinen kuvio johtuu, vai voiko se olla sattumaa?}}$\n",
    "\n",
    "\n",
    "$\\color{blue}{\\text{Oliko histogrammin piirtäminen hyödyllistä?}}$\n"
   ]
  },
  {
   "cell_type": "markdown",
   "metadata": {
    "slideshow": {
     "slide_type": "skip"
    }
   },
   "source": [
    "<a id=\"wrapup\"></a>\n",
    "\n",
    "# Tulosten vertailu"
   ]
  },
  {
   "cell_type": "markdown",
   "metadata": {
    "slideshow": {
     "slide_type": "skip"
    }
   },
   "source": [
    "Tarkastelkaa omia tuloksianne ja vertailkaa niitä taulukkoon ja kuvaajaan. **Mistä hiukkasesta sinun piikkidata voisi olla peräisin?**\n",
    "\n",
    "<br>\n",
    " <img src=\"https://github.com/cms-opendata-education/cms-jupyter-materials-finnish/blob/master/Kuvat/inv_massa.PNG?raw=true\"  align=\"right\" width=\"600px\" title=\"[Kuva 8]  Törmäyksestä syntyneiden kahden myonin invariantin massan jakauma vuosilta 2017 ja 2018. Jakaumasta erottaa selvästi niiden hiukkasten piikit jotka voivat hajota kahdeksi myoniksi.\">\n",
    " <br>\n",
    " \n",
    "\n",
    "Lataamanne tiedosto on CMS:n mittausdataa vuodelta 2011. Tiedostoon on valittu vain ne tapahtumat joista on syntynyt kaksi myonia. Kahden myonin data on kiinnostavaa, koska se voi olla peräisin monen eri hiukkasen hajoamisesta. Viereisessä kuvassa on esitetty  kahden myonin invariantin massan jakauma. Jakaumasta erottaa selvästi niiden hiukkasten piikit jotka voivat hajota kahdeksi myoniksi. Oikeassa tutkimuksessa vastaavat ennusteet ovat teoreettisten fyysikoiden tekemiä ja niiden perusteella voidaan päätellä piikin liittyvän tietyn tyyppiseen hiukkaseen. \n",
    "\n",
    "\n",
    " |\tHiukkanen | Massa [GeV]    |\n",
    "|----------|:-----------------:|\n",
    "| η (eta) | 0.548 |\n",
    "|  ρ,  (rho) | 0.775|\n",
    "|    ω (omega)     |  0.782     |\n",
    "|   φ (phi)     | 1.019  |\n",
    "|   J/ψ (J/psi) |  3.097  |\n",
    "|   ψ’ (psi) | 3.686 |\n",
    "| Υ (ypsilon) | 9.460 |\n",
    "| Z-bosoni  | 91.188 |\n",
    "\n"
   ]
  },
  {
   "cell_type": "markdown",
   "metadata": {},
   "source": [
    "# Lisätehtävä\n",
    "\n",
    "Kesäopiskelijallamme on epävarma aavistus siitä mistä _piikkidatat_ saattavat olla peräisin. Hänellä on tietokeneellaan toinen tiedosto jossa on samoihin aikoihin CMS:llä mitattuja myonien arvoja. Alla oleva solu lataa kyseisen tiedoston myös teidän tutkittavaksi.  "
   ]
  },
  {
   "cell_type": "code",
   "execution_count": null,
   "metadata": {
    "collapsed": true,
    "jupyter": {
     "outputs_hidden": true
    },
    "slideshow": {
     "slide_type": "skip"
    }
   },
   "outputs": [],
   "source": [
    "# ladataan tiedosto ja luetaan se muuttujaan 'dimu2\n",
    "url = \"https://raw.githubusercontent.com/cms-opendata-education/cms-jupyter-materials-finnish/master/Data/DoubleMuRun2011A.csv\"\n",
    "filename = \"DoubleMuRun2011A.csv\"\n",
    "\n",
    "r = requests.get(url)\n",
    "r.raise_for_status()  # ensure we know if download fails\n",
    "\n",
    "with open(filename, \"wb\") as f:\n",
    "    f.write(r.content)\n",
    "\n",
    "print(\"File downloaded:\", filename)\n",
    "dimu2 = pd.read_csv('DoubleMuRun2011A.csv')\n"
   ]
  },
  {
   "cell_type": "code",
   "execution_count": null,
   "metadata": {
    "collapsed": true,
    "jupyter": {
     "outputs_hidden": true
    },
    "slideshow": {
     "slide_type": "skip"
    }
   },
   "outputs": [],
   "source": [
    "# Tutkikaa tiedostoa esimerkiksi invariantin massan histogrammin avulla.\n"
   ]
  },
  {
   "cell_type": "markdown",
   "metadata": {},
   "source": [
    "Miksi histogrammi näyttää erilaiselta kuin tulosten vertailussa oleva kuvaaja?\n",
    "\n",
    "Miten muokkaisit kuvaajaa jotta se näyttäisi samalta?"
   ]
  },
  {
   "cell_type": "markdown",
   "metadata": {
    "slideshow": {
     "slide_type": "slide"
    }
   },
   "source": [
    "*****\n",
    "<a id=\"sources\"></a>\n",
    "\n",
    "## Lähteet \n",
    "<a id=\"tk\"></a>\n",
    "[1] Tieteen Kuvalehti 7.7.2015. Kvanttimekaniikkaa viidessä minuutissa. Luettu 25.6.2019 <br>\n",
    "Url:https://tieku.fi/luonto/kvanttimekaniikkaa-viidessa-minuutissa\n",
    "\n",
    "<a id=\"tedvideo\"></a>\n",
    "[2] TED Ed Animation, Schrödinger's cat: A thought experiment in quantum mechanics - Chad Orzel. Katseltu 25.6.2019 <br>\n",
    "Url: https://ed.ted.com/lessons/schrodinger-s-cat-a-thought-experiment-in-quantum-mechanics-chad-orzel\n",
    "\n",
    "<a id=\"cernstandard\"></a>\n",
    "[3] The Standard Model, Copyright  © 2019 CERN <br>\n",
    "Url: https://home.cern/science/physics/standard-model\n",
    "\n",
    "<a id=\"diat\"></a>\n",
    "[4] CMS diat suomeksi <br>\n",
    "Url: https://cms-docdb.cern.ch/cgi-bin/PublicDocDB/RetrieveFile?docid=12398&filename=SetOfPostersFN_HQ_small_16092014.pdf\n",
    "\n",
    "<a id=\"cms\"></a>\n",
    "[5] Detector overview, © Copyright CERN <br>\n",
    "Url: https://cms.cern/detector\n",
    "\n",
    "<a id=\"higs\"></a>\n",
    "[6] Determination of the off-shell Higgs boson signal strength in the high-mass ZZ final state with the ATLAS detector. <br>\n",
    "Url: https://atlas.cern/updates/physics-briefing/higgs-boson-s-shadow\n",
    "\n",
    "<a id=\"mitat\"></a>\n",
    "[7] The Large Hadron Collider, Copyright  © 2019 CERN <br>\n",
    "Url: https://home.cern/science/accelerators/large-hadron-collider\n",
    "\n",
    "\n",
    "## Data\n",
    "#### [Demo data] \n",
    "Thomas McCauley (2016). Zmumu. Jupyter Notebook file. <br>\n",
    "Url: https://github.com/tpmccauley/cmsopendata-jupyter/blob/hst-0.1/Zmumu.ipynb\n",
    "\n",
    "#### [Piikkidata]\n",
    "CMS collaboration (2016). DoubleMu primary dataset in AOD format from RunA of 2011 (/DoubleMu/Run2011A-12Oct2013-v1/AOD). CERN Open Data Portal. \n",
    "Url: http://doi.org/10.7483/OPENDATA.CMS.RZ34.QR6N\n",
    "\n",
    "Data collected from collisions will be saved to AOD (Analysis Object Data) files that can be opened with the ROOT program (https://root.cern.ch/). Structures of the files are very complicated so those can't be handled for example in simple data tables.\n",
    "\n",
    "The data used in the analysis has been collected by the CMS detector in 2011. From the original data a CSV file containing only some of the collision events and information has been derived. The original data is saved in AOD format that can be read with ROOT program. Open the link http://opendata.cern.ch/record/17 and take a look how large the original datafile is from the section Characteristics.\n",
    "\n",
    "From the original datafile only collision events with exactly two muons detected have been selected to the CSV file. The selection is done with the code similar to the one in the link http://opendata.cern.ch/record/552. In practice the code will select wanted values from the original file and write them to the CSV file. \n",
    "\n",
    "## Kuvat\n",
    "[Kuva 1]  Standard Model of Elementary Particles.svg From Wikimedia Commons, CC BY-SA 3.0. <br>\n",
    "Url: https://commons.wikimedia.org/wiki/File:Standard_Model_of_Elementary_Particles.svg\n",
    "\n",
    "[Kuva 2] CMS-OUTREACH-2016-013 Title Set of CMS Brochures (2015) Luettu 25.6.2019 <br>\n",
    "Url: https://cds.cern.ch/record/2204854\n",
    "\n",
    "[Kuva 3] CMS-OUTREACH-2016-027, Title\tInteractive Slice of the CMS detector, Author Davis, Siona Ruth (CERN) <br>\n",
    "Url: https://cds.cern.ch/record/2205172\n",
    "\n",
    "[Kuva 4] Khan Academy Using the Right-Hand Rule Luettu 25.6.2019 <br>\n",
    "Url: https://www.khanacademy.org/test-prep/mcat/physical-processes/magnetism-mcat/a/using-the-right-hand-rule\n",
    "\n",
    "\n",
    "[Kuva 5] P. Mouche, Overall view of the LHC. Vue d'ensemble du LHC, 2014. <br>\n",
    "Url: https://cds.cern.ch/record/1708847.\n",
    "\n",
    "\n",
    "[Kuva 6] LHC Project Illustrations / Civil engineering\t\tLHC-PHO-1998-325\n",
    "Magnetic field induced by the LHC dipole's superconducting coils. Conditions of Use © 1998-2019 CERN <br>\n",
    "Url: http://cds.cern.ch/record/841511\n",
    "\n",
    "[Kuva 7] Displays of candidate VHcc events, CMS-PHO-EVENTS-2019-006-12, Conditions of Use © 2019 CERN <br>\n",
    "Url: https://cds.cern.ch/record/2682635\n",
    "\n",
    "[Kuva 8] HLT Dimuon Invariant Mass Distributions in 2017 and 2018 ( CMS DP-2018/055) <br>\n",
    "Url: https://twiki.cern.ch/twiki/bin/view/CMSPublic/HLTDiMuon2017and2018 \n",
    "\n",
    "\n"
   ]
  }
 ],
 "metadata": {
  "kernelspec": {
   "display_name": "Python 3",
   "language": "python",
   "name": "python3"
  },
  "language_info": {
   "codemirror_mode": {
    "name": "ipython",
    "version": 3
   },
   "file_extension": ".py",
   "mimetype": "text/x-python",
   "name": "python",
   "nbconvert_exporter": "python",
   "pygments_lexer": "ipython3",
   "version": "3.10.10"
  },
  "toc-showmarkdowntxt": false,
  "toc-showtags": false,
  "vscode": {
   "interpreter": {
    "hash": "21f109854f6355d526c41eeee3c10629f5ce76e78d921c4a5ce337b7dbd6bda7"
   }
  }
 },
 "nbformat": 4,
 "nbformat_minor": 4
}
